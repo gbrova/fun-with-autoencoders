{
 "cells": [
  {
   "cell_type": "code",
   "execution_count": 1,
   "id": "8198e3aa-2c4c-4d2f-9f07-6c8be4400e41",
   "metadata": {},
   "outputs": [],
   "source": [
    "\n",
    "# Snippets copied liberally from https://blog.keras.io/building-autoencoders-in-keras.html"
   ]
  },
  {
   "cell_type": "code",
   "execution_count": null,
   "id": "acdb0c62-564d-46e5-8fdf-d96879ad38a1",
   "metadata": {},
   "outputs": [],
   "source": []
  },
  {
   "cell_type": "code",
   "execution_count": null,
   "id": "fee9a0f7-debb-47c6-ac21-09e13ef1b02d",
   "metadata": {},
   "outputs": [],
   "source": []
  },
  {
   "cell_type": "code",
   "execution_count": 2,
   "id": "6d7ab964-71b0-40e2-8a82-f50848e7501a",
   "metadata": {},
   "outputs": [
    {
     "name": "stderr",
     "output_type": "stream",
     "text": [
      "2024-01-11 10:42:03.453800: E external/local_xla/xla/stream_executor/cuda/cuda_dnn.cc:9261] Unable to register cuDNN factory: Attempting to register factory for plugin cuDNN when one has already been registered\n",
      "2024-01-11 10:42:03.453849: E external/local_xla/xla/stream_executor/cuda/cuda_fft.cc:607] Unable to register cuFFT factory: Attempting to register factory for plugin cuFFT when one has already been registered\n",
      "2024-01-11 10:42:03.455530: E external/local_xla/xla/stream_executor/cuda/cuda_blas.cc:1515] Unable to register cuBLAS factory: Attempting to register factory for plugin cuBLAS when one has already been registered\n",
      "2024-01-11 10:42:03.463909: I tensorflow/core/platform/cpu_feature_guard.cc:182] This TensorFlow binary is optimized to use available CPU instructions in performance-critical operations.\n",
      "To enable the following instructions: AVX2 FMA, in other operations, rebuild TensorFlow with the appropriate compiler flags.\n",
      "2024-01-11 10:42:04.322282: W tensorflow/compiler/tf2tensorrt/utils/py_utils.cc:38] TF-TRT Warning: Could not find TensorRT\n"
     ]
    }
   ],
   "source": [
    "import tensorflow as tf\n",
    "import numpy as np\n",
    "\n",
    "from PIL import Image\n",
    "\n",
    "from tqdm import tqdm\n"
   ]
  },
  {
   "cell_type": "code",
   "execution_count": null,
   "id": "15b8e898-847e-4e6c-b3d7-731946052fe1",
   "metadata": {},
   "outputs": [],
   "source": []
  },
  {
   "cell_type": "code",
   "execution_count": null,
   "id": "5f70b574-e08c-415e-904a-8bc3df125e19",
   "metadata": {},
   "outputs": [],
   "source": []
  },
  {
   "cell_type": "code",
   "execution_count": 107,
   "id": "7b46b03a-20d0-4a9b-b99a-ab6d80459f3d",
   "metadata": {},
   "outputs": [],
   "source": [
    "def preprocess_image(img, resized_size):\n",
    "    # convert PIL.Image to tensor\n",
    "    img = img.resize((resized_size, resized_size))\n",
    "    img = tf.keras.utils.img_to_array(img, data_format=None, dtype=None)\n",
    "    img = img / 256\n",
    "    return img"
   ]
  },
  {
   "cell_type": "code",
   "execution_count": 108,
   "id": "ba201042-5c55-4e66-827b-c1ac205a65b8",
   "metadata": {},
   "outputs": [
    {
     "name": "stderr",
     "output_type": "stream",
     "text": [
      "100%|███████████████████████████████████████████████| 2000/2000 [00:00<00:00, 2262.89it/s]\n",
      "100%|█████████████████████████████████████████████████| 749/749 [00:00<00:00, 2191.67it/s]\n"
     ]
    }
   ],
   "source": [
    "# emoji\n",
    "\n",
    "import datasets\n",
    "\n",
    "def get_preprocessed_emoji(resized_size):\n",
    "    \n",
    "    dataset = datasets.load_dataset(\"valhalla/emoji-dataset\")\n",
    "    \n",
    "    x_train = np.array([preprocess_image(img, resized_size) for img in tqdm(dataset[\"train\"][:2000][\"image\"])])\n",
    "    x_test = np.array([preprocess_image(img, resized_size) for img in tqdm(dataset[\"train\"][2000:][\"image\"])])\n",
    "\n",
    "    return x_train, x_test\n",
    "\n",
    "x_train, x_test = get_preprocessed_emoji(resized_size=32)"
   ]
  },
  {
   "cell_type": "code",
   "execution_count": null,
   "id": "c6956e14-668d-49d3-a28f-26c66fe72978",
   "metadata": {},
   "outputs": [],
   "source": []
  },
  {
   "cell_type": "code",
   "execution_count": 109,
   "id": "86fc8a2e-bd04-45d8-b156-53fc1869edf9",
   "metadata": {},
   "outputs": [],
   "source": [
    "from keras.datasets import mnist\n",
    "def get_preprocessed_mnist(resized_size):\n",
    "    (mnist_train, _), (mnist_test, _) = mnist.load_data()\n",
    "    \n",
    "    \n",
    "    # nb: .convert('RGB') to force 3 channels, just so the shapes are the same.\n",
    "    x_train = np.array([preprocess_image(Image.fromarray(img).convert('RGB'), resized_size) for img in tqdm(mnist_train[:30_000])])\n",
    "    x_test = np.array([preprocess_image(Image.fromarray(img).convert('RGB'), resized_size) for img in tqdm(mnist_test)])\n",
    "\n",
    "    return x_train, x_test\n",
    "\n",
    "# x_train, x_test = get_preprocessed_mnist(resized_size=32)"
   ]
  },
  {
   "cell_type": "code",
   "execution_count": null,
   "id": "0c655348-a2ab-4371-8347-c814e21d8197",
   "metadata": {},
   "outputs": [],
   "source": []
  },
  {
   "cell_type": "code",
   "execution_count": 110,
   "id": "69107982-4037-4a9e-b8fc-378ebff252b6",
   "metadata": {},
   "outputs": [
    {
     "data": {
      "text/plain": [
       "(2000, 32, 32, 3)"
      ]
     },
     "execution_count": 110,
     "metadata": {},
     "output_type": "execute_result"
    }
   ],
   "source": [
    "x_train.shape"
   ]
  },
  {
   "cell_type": "code",
   "execution_count": null,
   "id": "f63c20b6-8be1-439b-97d5-190663a4eacc",
   "metadata": {},
   "outputs": [],
   "source": []
  },
  {
   "cell_type": "code",
   "execution_count": null,
   "id": "0d0e4da4-4083-4031-9608-692b46c19a5f",
   "metadata": {},
   "outputs": [],
   "source": []
  },
  {
   "cell_type": "code",
   "execution_count": 111,
   "id": "fc5f93c6-0bf6-4cdf-9337-02f52fceb6cd",
   "metadata": {},
   "outputs": [],
   "source": [
    "# okay, fine, make an autoencoder\n",
    "from keras.layers import Input, Conv2D, MaxPooling2D, UpSampling2D, Identity, Conv2DTranspose, BatchNormalization, Flatten, Reshape, Dense\n",
    "\n",
    "from keras.callbacks import EarlyStopping"
   ]
  },
  {
   "cell_type": "code",
   "execution_count": 115,
   "id": "cdef511f-c02a-46ea-8a77-02e38f12fd38",
   "metadata": {},
   "outputs": [],
   "source": [
    "# Note, 8x8x4 has pretty good reproduction. But downscale/upscale is also about as good, so it's not too impressive.\n",
    "\n",
    "\n",
    "inferred_size = x_train.shape[1]\n",
    "\n",
    "encoder = tf.keras.Sequential([\n",
    "    Input(shape=(inferred_size, inferred_size, 3)),\n",
    "\n",
    "    Conv2D(64,kernel_size=3,activation='relu',padding='same',strides=1),\n",
    "    MaxPooling2D((2, 2), padding='same'),\n",
    "    BatchNormalization(),\n",
    "    Conv2D(32,kernel_size=3,activation='relu',padding='same',strides=1),\n",
    "    MaxPooling2D((2, 2), padding='same'),\n",
    "    BatchNormalization(),\n",
    "    Conv2D(16,kernel_size=3,activation='relu',padding='same',strides=1), \n",
    "    MaxPooling2D((2, 2), padding='same'),\n",
    "    # Flatten(),\n",
    "    # Dense(256),\n",
    "    \n",
    "    \n",
    "])\n",
    "\n",
    "# deconvolution -> decoding \n",
    "decoder = tf.keras.Sequential([\n",
    "    # Dense(4*4*16),\n",
    "    # Reshape((4, 4, 16)),\n",
    "    Conv2D(16,kernel_size=3,strides=1,activation='relu',padding='same'), #strides=2\n",
    "    BatchNormalization(),\n",
    "    UpSampling2D((2, 2)),\n",
    "    Conv2D(32,kernel_size=3,strides=1,activation='relu',padding='same'),\n",
    "    BatchNormalization(),\n",
    "    UpSampling2D((2, 2)),\n",
    "    Conv2D(64,kernel_size=3,strides=1,activation='relu',padding='same'),\n",
    "    UpSampling2D((2, 2)),\n",
    "    Conv2D(3,kernel_size=(3,3),activation='sigmoid',padding='same')\n",
    "])\n",
    "\n",
    "\n",
    "autoencoder = tf.keras.Sequential([encoder, decoder])\n",
    "\n",
    "autoencoder.compile(optimizer='adam', loss='mean_squared_error')"
   ]
  },
  {
   "cell_type": "code",
   "execution_count": 116,
   "id": "84b37202-4897-4126-a113-ee197ced9dcd",
   "metadata": {},
   "outputs": [
    {
     "name": "stdout",
     "output_type": "stream",
     "text": [
      "Model: \"sequential_24\"\n",
      "_________________________________________________________________\n",
      " Layer (type)                Output Shape              Param #   \n",
      "=================================================================\n",
      " conv2d_54 (Conv2D)          (None, 32, 32, 64)        1792      \n",
      "                                                                 \n",
      " max_pooling2d_22 (MaxPooli  (None, 16, 16, 64)        0         \n",
      " ng2D)                                                           \n",
      "                                                                 \n",
      " batch_normalization_30 (Ba  (None, 16, 16, 64)        256       \n",
      " tchNormalization)                                               \n",
      "                                                                 \n",
      " conv2d_55 (Conv2D)          (None, 16, 16, 32)        18464     \n",
      "                                                                 \n",
      " max_pooling2d_23 (MaxPooli  (None, 8, 8, 32)          0         \n",
      " ng2D)                                                           \n",
      "                                                                 \n",
      " batch_normalization_31 (Ba  (None, 8, 8, 32)          128       \n",
      " tchNormalization)                                               \n",
      "                                                                 \n",
      " conv2d_56 (Conv2D)          (None, 8, 8, 16)          4624      \n",
      "                                                                 \n",
      " max_pooling2d_24 (MaxPooli  (None, 4, 4, 16)          0         \n",
      " ng2D)                                                           \n",
      "                                                                 \n",
      "=================================================================\n",
      "Total params: 25264 (98.69 KB)\n",
      "Trainable params: 25072 (97.94 KB)\n",
      "Non-trainable params: 192 (768.00 Byte)\n",
      "_________________________________________________________________\n"
     ]
    }
   ],
   "source": [
    "encoder.summary()"
   ]
  },
  {
   "cell_type": "code",
   "execution_count": 117,
   "id": "83f57034-6272-4609-b776-7eac878b9f40",
   "metadata": {},
   "outputs": [
    {
     "name": "stdout",
     "output_type": "stream",
     "text": [
      "Epoch 1/50\n",
      "16/16 [==============================] - 3s 30ms/step - loss: 0.0871 - val_loss: 0.1165\n",
      "Epoch 2/50\n",
      "16/16 [==============================] - 0s 18ms/step - loss: 0.0466 - val_loss: 0.0967\n",
      "Epoch 3/50\n",
      "16/16 [==============================] - 0s 19ms/step - loss: 0.0382 - val_loss: 0.0828\n",
      "Epoch 4/50\n",
      "16/16 [==============================] - 0s 17ms/step - loss: 0.0336 - val_loss: 0.0744\n",
      "Epoch 5/50\n",
      "16/16 [==============================] - 0s 18ms/step - loss: 0.0303 - val_loss: 0.0702\n",
      "Epoch 6/50\n",
      "16/16 [==============================] - 0s 18ms/step - loss: 0.0279 - val_loss: 0.0688\n",
      "Epoch 7/50\n",
      "16/16 [==============================] - 0s 18ms/step - loss: 0.0263 - val_loss: 0.0721\n",
      "Epoch 8/50\n",
      "16/16 [==============================] - 0s 17ms/step - loss: 0.0247 - val_loss: 0.0764\n",
      "Epoch 9/50\n",
      "16/16 [==============================] - 0s 17ms/step - loss: 0.0236 - val_loss: 0.0770\n",
      "Epoch 10/50\n",
      "16/16 [==============================] - 0s 17ms/step - loss: 0.0227 - val_loss: 0.0784\n",
      "Epoch 11/50\n",
      "16/16 [==============================] - 0s 18ms/step - loss: 0.0221 - val_loss: 0.0729\n",
      "Epoch 12/50\n",
      "16/16 [==============================] - 0s 17ms/step - loss: 0.0213 - val_loss: 0.0702\n",
      "Epoch 13/50\n",
      "16/16 [==============================] - 0s 16ms/step - loss: 0.0207 - val_loss: 0.0670\n",
      "Epoch 14/50\n",
      "16/16 [==============================] - 0s 17ms/step - loss: 0.0202 - val_loss: 0.0652\n",
      "Epoch 15/50\n",
      "16/16 [==============================] - 0s 18ms/step - loss: 0.0197 - val_loss: 0.0622\n",
      "Epoch 16/50\n",
      "16/16 [==============================] - 0s 17ms/step - loss: 0.0195 - val_loss: 0.0595\n",
      "Epoch 17/50\n",
      "16/16 [==============================] - 0s 18ms/step - loss: 0.0191 - val_loss: 0.0593\n",
      "Epoch 18/50\n",
      "16/16 [==============================] - 0s 17ms/step - loss: 0.0189 - val_loss: 0.0542\n",
      "Epoch 19/50\n",
      "16/16 [==============================] - 0s 17ms/step - loss: 0.0185 - val_loss: 0.0478\n",
      "Epoch 20/50\n",
      "16/16 [==============================] - 0s 18ms/step - loss: 0.0182 - val_loss: 0.0443\n",
      "Epoch 21/50\n",
      "16/16 [==============================] - 0s 15ms/step - loss: 0.0180 - val_loss: 0.0414\n",
      "Epoch 22/50\n",
      "16/16 [==============================] - 0s 17ms/step - loss: 0.0179 - val_loss: 0.0408\n",
      "Epoch 23/50\n",
      "16/16 [==============================] - 0s 16ms/step - loss: 0.0175 - val_loss: 0.0353\n",
      "Epoch 24/50\n",
      "16/16 [==============================] - 0s 17ms/step - loss: 0.0174 - val_loss: 0.0327\n",
      "Epoch 25/50\n",
      "16/16 [==============================] - 0s 18ms/step - loss: 0.0172 - val_loss: 0.0320\n",
      "Epoch 26/50\n",
      "16/16 [==============================] - 0s 17ms/step - loss: 0.0172 - val_loss: 0.0300\n",
      "Epoch 27/50\n",
      "16/16 [==============================] - 0s 17ms/step - loss: 0.0169 - val_loss: 0.0271\n",
      "Epoch 28/50\n",
      "16/16 [==============================] - 0s 18ms/step - loss: 0.0168 - val_loss: 0.0274\n",
      "Epoch 29/50\n",
      "16/16 [==============================] - 0s 17ms/step - loss: 0.0168 - val_loss: 0.0227\n",
      "Epoch 30/50\n",
      "16/16 [==============================] - 0s 18ms/step - loss: 0.0168 - val_loss: 0.0211\n",
      "Epoch 31/50\n",
      "16/16 [==============================] - 0s 18ms/step - loss: 0.0163 - val_loss: 0.0221\n",
      "Epoch 32/50\n",
      "16/16 [==============================] - 0s 18ms/step - loss: 0.0159 - val_loss: 0.0207\n",
      "Epoch 33/50\n",
      "16/16 [==============================] - 0s 18ms/step - loss: 0.0159 - val_loss: 0.0213\n",
      "Epoch 34/50\n",
      "16/16 [==============================] - 0s 17ms/step - loss: 0.0157 - val_loss: 0.0200\n",
      "Epoch 35/50\n",
      "16/16 [==============================] - 0s 18ms/step - loss: 0.0155 - val_loss: 0.0205\n",
      "Epoch 36/50\n",
      "16/16 [==============================] - 0s 18ms/step - loss: 0.0158 - val_loss: 0.0188\n",
      "Epoch 37/50\n",
      "16/16 [==============================] - 0s 18ms/step - loss: 0.0156 - val_loss: 0.0199\n",
      "Epoch 38/50\n",
      "16/16 [==============================] - 0s 16ms/step - loss: 0.0154 - val_loss: 0.0184\n",
      "Epoch 39/50\n",
      "16/16 [==============================] - 0s 16ms/step - loss: 0.0153 - val_loss: 0.0187\n",
      "Epoch 40/50\n",
      "16/16 [==============================] - 0s 17ms/step - loss: 0.0157 - val_loss: 0.0181\n",
      "Epoch 41/50\n",
      "16/16 [==============================] - 0s 18ms/step - loss: 0.0151 - val_loss: 0.0177\n",
      "Epoch 42/50\n",
      "16/16 [==============================] - 0s 17ms/step - loss: 0.0151 - val_loss: 0.0182\n",
      "Epoch 43/50\n",
      "16/16 [==============================] - 0s 18ms/step - loss: 0.0150 - val_loss: 0.0180\n",
      "Epoch 44/50\n",
      "16/16 [==============================] - 0s 17ms/step - loss: 0.0148 - val_loss: 0.0196\n"
     ]
    }
   ],
   "source": [
    "history = autoencoder.fit(\n",
    "    x_train, x_train, \n",
    "    epochs=50, batch_size=128, validation_data=(x_test, x_test), \n",
    "    callbacks=[EarlyStopping(monitor='val_loss', patience=3, start_from_epoch=10)]\n",
    ")"
   ]
  },
  {
   "cell_type": "code",
   "execution_count": 118,
   "id": "d9ebfbfe-0bde-4778-951c-fd2877b635d8",
   "metadata": {},
   "outputs": [
    {
     "data": {
      "image/png": "[encoded data removed]",
      "text/plain": [
       "<Figure size 640x480 with 1 Axes>"
      ]
     },
     "metadata": {},
     "output_type": "display_data"
    }
   ],
   "source": [
    "import matplotlib.pyplot as plt\n",
    "\n",
    "# Obtain the training and validation loss values\n",
    "train_loss = history.history['loss']\n",
    "val_loss = history.history['val_loss']\n",
    "\n",
    "# Plot the loss curves\n",
    "plt.plot(train_loss, label='Train Loss')\n",
    "plt.plot(val_loss, label='Validation Loss')\n",
    "plt.xlabel('Epochs')\n",
    "plt.ylabel('Loss')\n",
    "plt.title('Training and Validation Loss')\n",
    "plt.legend()\n",
    "plt.show()\n"
   ]
  },
  {
   "cell_type": "code",
   "execution_count": null,
   "id": "9af0928e-f5da-4cd2-b8b8-e1097091ce73",
   "metadata": {},
   "outputs": [],
   "source": []
  },
  {
   "cell_type": "code",
   "execution_count": 119,
   "id": "e6afb2b2-b8ac-4c52-b305-58cccf8236b4",
   "metadata": {},
   "outputs": [],
   "source": [
    "# okay, so what is the performance?  Let's evaluate reconstruction loss."
   ]
  },
  {
   "cell_type": "code",
   "execution_count": 120,
   "id": "72311881-f069-4e87-9c5a-ccfa497663c8",
   "metadata": {},
   "outputs": [
    {
     "name": "stdout",
     "output_type": "stream",
     "text": [
      "63/63 [==============================] - 0s 3ms/step\n"
     ]
    }
   ],
   "source": [
    "mse = tf.keras.losses.MeanSquaredError()\n",
    "\n",
    "recovered = autoencoder.predict(x_train)"
   ]
  },
  {
   "cell_type": "code",
   "execution_count": 121,
   "id": "61e5bfe5-9894-42b7-a2d1-73ea29a615e1",
   "metadata": {},
   "outputs": [
    {
     "data": {
      "text/plain": [
       "0.015986599"
      ]
     },
     "execution_count": 121,
     "metadata": {},
     "output_type": "execute_result"
    }
   ],
   "source": [
    "mse(recovered, x_train).numpy()"
   ]
  },
  {
   "cell_type": "code",
   "execution_count": null,
   "id": "df1c341a-c86b-46ac-95b6-113c122bfcff",
   "metadata": {},
   "outputs": [],
   "source": []
  },
  {
   "cell_type": "code",
   "execution_count": 122,
   "id": "e5d2e3af-cefb-4295-86de-cbb15c407ac7",
   "metadata": {},
   "outputs": [],
   "source": [
    "# how does this compare against a simple baseline of: 1. downsample and 2. re-upsample\n",
    "\n",
    "bottleneck_layer_size = np.prod(encoder.layers[-1].output_shape[1:])\n",
    "equivalent_downsample = int((bottleneck_layer_size / 3) ** 0.5)  # use as many \"numbers\" (forget precision for now) as the bottleneck layer.\n",
    "\n",
    "def baseline_recover(item):\n",
    "    original_size = item.shape[0]\n",
    "    img = tf.keras.utils.array_to_img(item, data_format=None, scale=True, dtype=None)\n",
    "    img = img.resize((equivalent_downsample, equivalent_downsample))\n",
    "    img = img.resize((original_size, original_size))\n",
    "    img = tf.keras.utils.img_to_array(img, data_format=None, dtype=None)\n",
    "    img /= 256\n",
    "    return img\n",
    "    "
   ]
  },
  {
   "cell_type": "code",
   "execution_count": 123,
   "id": "ccf91068-d7c1-4003-a863-bc9f5b92c8cd",
   "metadata": {},
   "outputs": [],
   "source": [
    "recovered_downsample = np.array([baseline_recover(img) for img in x_train])"
   ]
  },
  {
   "cell_type": "code",
   "execution_count": 124,
   "id": "c6c8c8aa-882c-4b53-8aaa-4826d97969de",
   "metadata": {},
   "outputs": [
    {
     "data": {
      "text/plain": [
       "0.019053157"
      ]
     },
     "execution_count": 124,
     "metadata": {},
     "output_type": "execute_result"
    }
   ],
   "source": [
    "mse(recovered_downsample, x_train).numpy()"
   ]
  },
  {
   "cell_type": "code",
   "execution_count": 125,
   "id": "a3ec9e50-6706-426e-a03f-531321ff7f12",
   "metadata": {},
   "outputs": [],
   "source": [
    "# compare the actual images"
   ]
  },
  {
   "cell_type": "code",
   "execution_count": 126,
   "id": "cd9704da-8653-4776-9598-615983390f92",
   "metadata": {},
   "outputs": [],
   "source": [
    "def view_images(images):\n",
    "    num_images = len(images)\n",
    "    fig, axes = plt.subplots(1, num_images, figsize=(12, 8))\n",
    "\n",
    "    for i, img in enumerate(images):\n",
    "        # img = Image.open(images[i])\n",
    "        axes[i].imshow(img, cmap='gray', vmin=0, vmax=255)\n",
    "        axes[i].axis('off')\n",
    "\n",
    "    plt.tight_layout()\n",
    "    plt.show()\n"
   ]
  },
  {
   "cell_type": "code",
   "execution_count": 131,
   "id": "9260163e-d36c-4fd6-92f0-e261f753c359",
   "metadata": {},
   "outputs": [
    {
     "name": "stdout",
     "output_type": "stream",
     "text": [
      "Originals:\n"
     ]
    },
    {
     "data": {
      "image/png": "[encoded data removed]",
      "text/plain": [
       "<Figure size 1200x800 with 5 Axes>"
      ]
     },
     "metadata": {},
     "output_type": "display_data"
    },
    {
     "name": "stdout",
     "output_type": "stream",
     "text": [
      "AE Recovered:\n"
     ]
    },
    {
     "data": {
      "image/png": "[encoded data removed]",
      "text/plain": [
       "<Figure size 1200x800 with 5 Axes>"
      ]
     },
     "metadata": {},
     "output_type": "display_data"
    },
    {
     "name": "stdout",
     "output_type": "stream",
     "text": [
      "Downsample/Upsample baseline:\n"
     ]
    },
    {
     "data": {
      "image/png": "[encoded data removed]",
      "text/plain": [
       "<Figure size 1200x800 with 5 Axes>"
      ]
     },
     "metadata": {},
     "output_type": "display_data"
    }
   ],
   "source": [
    "idxs = [1,2,3,4,5]\n",
    "print(\"Originals:\")\n",
    "view_images(x_train[idxs])\n",
    "\n",
    "print(\"AE Recovered:\")\n",
    "view_images(recovered[idxs])\n",
    "\n",
    "print(\"Downsample/Upsample baseline:\")\n",
    "view_images(recovered_downsample[idxs])"
   ]
  },
  {
   "cell_type": "code",
   "execution_count": 128,
   "id": "553c797c-8d35-411a-aba1-3f5beb83ac88",
   "metadata": {},
   "outputs": [
    {
     "data": {
      "text/plain": [
       "0.019241933"
      ]
     },
     "execution_count": 128,
     "metadata": {},
     "output_type": "execute_result"
    }
   ],
   "source": [
    "# compute mse for just these images\n",
    "mse(recovered_downsample[idxs], x_train[idxs]).numpy()"
   ]
  },
  {
   "cell_type": "code",
   "execution_count": 129,
   "id": "03ca3bf7-8ba4-4415-a74d-cb4779be6778",
   "metadata": {},
   "outputs": [
    {
     "data": {
      "text/plain": [
       "0.016327858"
      ]
     },
     "execution_count": 129,
     "metadata": {},
     "output_type": "execute_result"
    }
   ],
   "source": [
    "mse(recovered[idxs], x_train[idxs]).numpy()"
   ]
  },
  {
   "cell_type": "code",
   "execution_count": null,
   "id": "a21b14bc-ab6c-4564-8761-ca892659e41e",
   "metadata": {},
   "outputs": [],
   "source": []
  },
  {
   "cell_type": "code",
   "execution_count": null,
   "id": "c5aee5a2-214d-4aa9-a98b-67920e2c6bff",
   "metadata": {},
   "outputs": [],
   "source": []
  },
  {
   "cell_type": "code",
   "execution_count": null,
   "id": "64124547-4658-42f7-8c44-fe587242f452",
   "metadata": {},
   "outputs": [],
   "source": []
  },
  {
   "cell_type": "code",
   "execution_count": 86,
   "id": "fa6da099-b39d-4e8d-bb84-32e2928f932f",
   "metadata": {},
   "outputs": [
    {
     "data": {
      "text/plain": [
       "1024"
      ]
     },
     "execution_count": 86,
     "metadata": {},
     "output_type": "execute_result"
    }
   ],
   "source": [
    "bottleneck_layer_size"
   ]
  },
  {
   "cell_type": "code",
   "execution_count": null,
   "id": "6ca42097-f810-4b3e-9fe4-1d68529e85fa",
   "metadata": {},
   "outputs": [],
   "source": []
  },
  {
   "cell_type": "markdown",
   "id": "4ccb929c-1f00-4655-823b-80f4dae142a9",
   "metadata": {},
   "source": [
    "# Okay, here's where we are: \n",
    " - the same architecture works for both mnist and emoji\n",
    " - for emoji, it looks like the reconstruction loss is numerically better but the images look worse? (for 128x128; for 32\n",
    " - and everything as expected (obviously) for emojis. \n",
    "\n",
    "Other things I want to try:  \n",
    "    - overfit more! Maybe a single image.\n",
    "    - play with some of the same parameters as last time.\n",
    "    - maybe I want to change the loss function? \n",
    "     - or maybe things look subjectively better if I add some smoothing or something?\n",
    "    - try to decrease model complexity, and do I get the same issues as before? In particular, try again with fewer kernels?\n",
    "     "
   ]
  },
  {
   "cell_type": "code",
   "execution_count": null,
   "id": "8f1a7ac2-bb9b-41cd-b08e-847aebc33a38",
   "metadata": {},
   "outputs": [],
   "source": []
  },
  {
   "cell_type": "markdown",
   "id": "e97cdd57-4e2d-4ce6-8398-9d2faa472a93",
   "metadata": {},
   "source": [
    "Params I'm tuning: \n",
    " - size: [32, 128, 256]\n",
    " - dataest: digits or emoji\n",
    " - architecture\n",
    " - bottleneck:\n",
    "   - flatten?\n",
    "   - have a dense layer?\n"
   ]
  },
  {
   "cell_type": "markdown",
   "id": "c2d8b919-6dab-48d3-af91-4b05f3e4e612",
   "metadata": {},
   "source": [
    "# okay, so let's just play with size=32 for now.\n",
    "\n",
    "### Open problems right now: \n",
    "1. autoencoder has a better recovery error but the images look subjectively worse.  Other loss functions?"
   ]
  }
 ],
 "metadata": {
  "kernelspec": {
   "display_name": "Python 3 (ipykernel)",
   "language": "python",
   "name": "python3"
  },
  "language_info": {
   "codemirror_mode": {
    "name": "ipython",
    "version": 3
   },
   "file_extension": ".py",
   "mimetype": "text/x-python",
   "name": "python",
   "nbconvert_exporter": "python",
   "pygments_lexer": "ipython3",
   "version": "3.10.12"
  }
 },
 "nbformat": 4,
 "nbformat_minor": 5
}
