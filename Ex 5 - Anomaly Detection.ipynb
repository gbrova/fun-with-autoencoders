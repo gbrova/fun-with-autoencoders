{
 "cells": [
  {
   "cell_type": "markdown",
   "id": "61e4ccfc-f4c0-4862-b5f4-33fb743399d4",
   "metadata": {},
   "source": [
    "# Example 5 - Anomaly Detection\n",
    "\n",
    "Here's one way to do anomaly detection:\n",
    "\n",
    "1. Train an autoencoder on some regular (not-anomalous) data.\n",
    "2. To decide if some new data is anomalous, calculate its reconstruction loss.\n",
    "3. If the reconstruction loss is higher than for the original dataset, this new data is anomalous.\n",
    "\n",
    "This seems like a reasonable thing to do, because:\n",
    "\n",
    "1. The autoencoder will learn a good encoding function for items in the same distribution.\n",
    "2. Anomalous data, by definition, comes from a different distribution.\n",
    "3. The autoencoder will therefore not be able to effectively represent this new data.\n",
    "\n",
    "In this notebook, I want to explore this idea in practice.  We will train an autoencoder on emoji, and confirm that MNIST digits appear anomalous. "
   ]
  },
  {
   "cell_type": "code",
   "execution_count": 1,
   "id": "4f9a7492-6cd5-4ac7-b1f1-13d5569db239",
   "metadata": {},
   "outputs": [
    {
     "name": "stderr",
     "output_type": "stream",
     "text": [
      "2024-01-16 16:37:20.417492: E external/local_xla/xla/stream_executor/cuda/cuda_dnn.cc:9261] Unable to register cuDNN factory: Attempting to register factory for plugin cuDNN when one has already been registered\n",
      "2024-01-16 16:37:20.417547: E external/local_xla/xla/stream_executor/cuda/cuda_fft.cc:607] Unable to register cuFFT factory: Attempting to register factory for plugin cuFFT when one has already been registered\n",
      "2024-01-16 16:37:20.419479: E external/local_xla/xla/stream_executor/cuda/cuda_blas.cc:1515] Unable to register cuBLAS factory: Attempting to register factory for plugin cuBLAS when one has already been registered\n",
      "2024-01-16 16:37:20.427907: I tensorflow/core/platform/cpu_feature_guard.cc:182] This TensorFlow binary is optimized to use available CPU instructions in performance-critical operations.\n",
      "To enable the following instructions: AVX2 FMA, in other operations, rebuild TensorFlow with the appropriate compiler flags.\n",
      "2024-01-16 16:37:21.315445: W tensorflow/compiler/tf2tensorrt/utils/py_utils.cc:38] TF-TRT Warning: Could not find TensorRT\n"
     ]
    }
   ],
   "source": [
    "import tensorflow as tf\n",
    "\n",
    "\n",
    "from tqdm.notebook import tqdm\n",
    "from tqdm.keras import TqdmCallback\n",
    "\n",
    "from keras.layers import Input, Conv2D, MaxPooling2D, UpSampling2D, Identity, Conv2DTranspose, BatchNormalization, Flatten, Reshape, Dense\n",
    "from keras.callbacks import EarlyStopping"
   ]
  },
  {
   "cell_type": "code",
   "execution_count": 2,
   "id": "423e34ad-d6e7-4dcb-93b7-6391fc633925",
   "metadata": {},
   "outputs": [],
   "source": [
    "from utils import get_preprocessed_emoji, get_preprocessed_mnist, plot_loss, evaluate_autoencoder, view_images"
   ]
  },
  {
   "cell_type": "code",
   "execution_count": 3,
   "id": "1f223d6a-2c72-46a1-9e69-55bc0bf044f4",
   "metadata": {},
   "outputs": [
    {
     "data": {
      "application/vnd.jupyter.widget-view+json": {
       "model_id": "f817e3d879324c5c8de301da67e97856",
       "version_major": 2,
       "version_minor": 0
      },
      "text/plain": [
       "  0%|          | 0/2000 [00:00<?, ?it/s]"
      ]
     },
     "metadata": {},
     "output_type": "display_data"
    },
    {
     "data": {
      "application/vnd.jupyter.widget-view+json": {
       "model_id": "98b2481d668c429a8427f53b1654a93f",
       "version_major": 2,
       "version_minor": 0
      },
      "text/plain": [
       "  0%|          | 0/749 [00:00<?, ?it/s]"
      ]
     },
     "metadata": {},
     "output_type": "display_data"
    }
   ],
   "source": [
    "x_train, x_test = get_preprocessed_emoji(resized_size=32)"
   ]
  },
  {
   "cell_type": "code",
   "execution_count": 4,
   "id": "210e0580-8652-4328-ad3e-5a8e7355aff0",
   "metadata": {},
   "outputs": [],
   "source": [
    "def make_autoencoder(x_train):\n",
    "    inferred_size = x_train.shape[1]\n",
    "    \n",
    "    encoder = tf.keras.Sequential([\n",
    "        Input(shape=(inferred_size, inferred_size, 3)),\n",
    "    \n",
    "        Conv2D(4,kernel_size=3,activation='relu',padding='same',strides=1),\n",
    "        MaxPooling2D((2, 2), padding='same'),\n",
    "        \n",
    "        Conv2D(8,kernel_size=3,activation='relu',padding='same',strides=1),\n",
    "        MaxPooling2D((2, 2), padding='same'),\n",
    "        \n",
    "        Conv2D(8,kernel_size=3,activation='relu',padding='same',strides=1), \n",
    "        MaxPooling2D((2, 2), padding='same'),\n",
    "    ])\n",
    "    \n",
    "    decoder = tf.keras.Sequential([\n",
    "        UpSampling2D((2, 2)),\n",
    "        Conv2D(8,kernel_size=3,strides=1,activation='relu',padding='same'),\n",
    "        \n",
    "        UpSampling2D((2, 2)),\n",
    "        Conv2D(4,kernel_size=3,strides=1,activation='relu',padding='same'),\n",
    "        \n",
    "        UpSampling2D((2, 2)),\n",
    "        Conv2D(3,kernel_size=(3,3),activation='sigmoid',padding='same')\n",
    "    ])\n",
    "\n",
    "    autoencoder = tf.keras.Sequential([encoder, decoder])\n",
    "    return autoencoder\n"
   ]
  },
  {
   "cell_type": "code",
   "execution_count": 5,
   "id": "354d5d1c-79dd-471c-8549-71f2e701b81e",
   "metadata": {},
   "outputs": [
    {
     "name": "stderr",
     "output_type": "stream",
     "text": [
      "2024-01-16 16:37:39.437712: I external/local_xla/xla/stream_executor/cuda/cuda_executor.cc:901] successful NUMA node read from SysFS had negative value (-1), but there must be at least one NUMA node, so returning NUMA node zero. See more at https://github.com/torvalds/linux/blob/v6.0/Documentation/ABI/testing/sysfs-bus-pci#L344-L355\n",
      "2024-01-16 16:37:39.479980: I external/local_xla/xla/stream_executor/cuda/cuda_executor.cc:901] successful NUMA node read from SysFS had negative value (-1), but there must be at least one NUMA node, so returning NUMA node zero. See more at https://github.com/torvalds/linux/blob/v6.0/Documentation/ABI/testing/sysfs-bus-pci#L344-L355\n",
      "2024-01-16 16:37:39.480256: I external/local_xla/xla/stream_executor/cuda/cuda_executor.cc:901] successful NUMA node read from SysFS had negative value (-1), but there must be at least one NUMA node, so returning NUMA node zero. See more at https://github.com/torvalds/linux/blob/v6.0/Documentation/ABI/testing/sysfs-bus-pci#L344-L355\n",
      "2024-01-16 16:37:39.481910: I external/local_xla/xla/stream_executor/cuda/cuda_executor.cc:901] successful NUMA node read from SysFS had negative value (-1), but there must be at least one NUMA node, so returning NUMA node zero. See more at https://github.com/torvalds/linux/blob/v6.0/Documentation/ABI/testing/sysfs-bus-pci#L344-L355\n",
      "2024-01-16 16:37:39.482142: I external/local_xla/xla/stream_executor/cuda/cuda_executor.cc:901] successful NUMA node read from SysFS had negative value (-1), but there must be at least one NUMA node, so returning NUMA node zero. See more at https://github.com/torvalds/linux/blob/v6.0/Documentation/ABI/testing/sysfs-bus-pci#L344-L355\n",
      "2024-01-16 16:37:39.482357: I external/local_xla/xla/stream_executor/cuda/cuda_executor.cc:901] successful NUMA node read from SysFS had negative value (-1), but there must be at least one NUMA node, so returning NUMA node zero. See more at https://github.com/torvalds/linux/blob/v6.0/Documentation/ABI/testing/sysfs-bus-pci#L344-L355\n",
      "2024-01-16 16:37:39.585518: I external/local_xla/xla/stream_executor/cuda/cuda_executor.cc:901] successful NUMA node read from SysFS had negative value (-1), but there must be at least one NUMA node, so returning NUMA node zero. See more at https://github.com/torvalds/linux/blob/v6.0/Documentation/ABI/testing/sysfs-bus-pci#L344-L355\n",
      "2024-01-16 16:37:39.585759: I external/local_xla/xla/stream_executor/cuda/cuda_executor.cc:901] successful NUMA node read from SysFS had negative value (-1), but there must be at least one NUMA node, so returning NUMA node zero. See more at https://github.com/torvalds/linux/blob/v6.0/Documentation/ABI/testing/sysfs-bus-pci#L344-L355\n",
      "2024-01-16 16:37:39.585997: I external/local_xla/xla/stream_executor/cuda/cuda_executor.cc:901] successful NUMA node read from SysFS had negative value (-1), but there must be at least one NUMA node, so returning NUMA node zero. See more at https://github.com/torvalds/linux/blob/v6.0/Documentation/ABI/testing/sysfs-bus-pci#L344-L355\n",
      "2024-01-16 16:37:39.586173: I tensorflow/core/common_runtime/gpu/gpu_device.cc:1929] Created device /job:localhost/replica:0/task:0/device:GPU:0 with 9144 MB memory:  -> device: 0, name: NVIDIA GeForce GTX 1080 Ti, pci bus id: 0000:26:00.0, compute capability: 6.1\n"
     ]
    }
   ],
   "source": [
    "autoencoder = make_autoencoder(x_train)\n",
    "autoencoder.compile(optimizer='adam', loss='mean_squared_error')"
   ]
  },
  {
   "cell_type": "code",
   "execution_count": 6,
   "id": "870a26e2-c1cb-4119-9863-727422c38b15",
   "metadata": {},
   "outputs": [
    {
     "data": {
      "application/vnd.jupyter.widget-view+json": {
       "model_id": "47416d316c0a4167920d701d90531a6e",
       "version_major": 2,
       "version_minor": 0
      },
      "text/plain": [
       "0epoch [00:00, ?epoch/s]"
      ]
     },
     "metadata": {},
     "output_type": "display_data"
    },
    {
     "name": "stderr",
     "output_type": "stream",
     "text": [
      "2024-01-16 16:37:40.755235: I external/local_xla/xla/stream_executor/cuda/cuda_dnn.cc:454] Loaded cuDNN version 8902\n",
      "2024-01-16 16:37:40.879694: I external/local_tsl/tsl/platform/default/subprocess.cc:304] Start cannot spawn child process: No such file or directory\n",
      "2024-01-16 16:37:41.142426: I external/local_tsl/tsl/platform/default/subprocess.cc:304] Start cannot spawn child process: No such file or directory\n",
      "2024-01-16 16:37:41.662583: I external/local_xla/xla/service/service.cc:168] XLA service 0x7f24855b6d70 initialized for platform CUDA (this does not guarantee that XLA will be used). Devices:\n",
      "2024-01-16 16:37:41.662614: I external/local_xla/xla/service/service.cc:176]   StreamExecutor device (0): NVIDIA GeForce GTX 1080 Ti, Compute Capability 6.1\n",
      "2024-01-16 16:37:41.668022: I tensorflow/compiler/mlir/tensorflow/utils/dump_mlir_util.cc:269] disabling MLIR crash reproducer, set env var `MLIR_CRASH_REPRODUCER_DIRECTORY` to enable.\n",
      "WARNING: All log messages before absl::InitializeLog() is called are written to STDERR\n",
      "I0000 00:00:1705441061.796428  100270 device_compiler.h:186] Compiled cluster using XLA!  This line is logged at most once for the lifetime of the process.\n"
     ]
    },
    {
     "data": {
      "image/png": "[encoded data removed]",
      "text/plain": [
       "<Figure size 640x480 with 1 Axes>"
      ]
     },
     "metadata": {},
     "output_type": "display_data"
    }
   ],
   "source": [
    "history = autoencoder.fit(\n",
    "    x_train, x_train, \n",
    "    epochs=100, batch_size=64, validation_data=(x_test, x_test), \n",
    "\n",
    "    # Only show progress for epochs:\n",
    "    verbose=0,\n",
    "    callbacks=[TqdmCallback(verbose=0)],\n",
    ")\n",
    "\n",
    "plot_loss(history)"
   ]
  },
  {
   "cell_type": "code",
   "execution_count": null,
   "id": "e4c2946d-8a33-4754-881f-184569e6dfed",
   "metadata": {},
   "outputs": [],
   "source": []
  },
  {
   "cell_type": "markdown",
   "id": "9c6fc5a8-c876-4314-b145-95e73847f267",
   "metadata": {},
   "source": [
    "## Add some anomalies\n",
    "\n",
    "From a totally different dataset"
   ]
  },
  {
   "cell_type": "code",
   "execution_count": 30,
   "id": "75e7a87c-68ed-4641-816b-0d980e6065d8",
   "metadata": {},
   "outputs": [
    {
     "data": {
      "application/vnd.jupyter.widget-view+json": {
       "model_id": "e1d36174046b40bea6c1c6c5fccf5dbc",
       "version_major": 2,
       "version_minor": 0
      },
      "text/plain": [
       "  0%|          | 0/30000 [00:00<?, ?it/s]"
      ]
     },
     "metadata": {},
     "output_type": "display_data"
    },
    {
     "data": {
      "application/vnd.jupyter.widget-view+json": {
       "model_id": "6307ddc9f1bb4ac884600b5583a27bdb",
       "version_major": 2,
       "version_minor": 0
      },
      "text/plain": [
       "  0%|          | 0/10000 [00:00<?, ?it/s]"
      ]
     },
     "metadata": {},
     "output_type": "display_data"
    }
   ],
   "source": [
    "x_train_anomalies, x_test_anomalies = get_preprocessed_mnist(resized_size=32)\n",
    "\n",
    "# For clarity, truncate to keep a similar dataset size.\n",
    "x_train_anomalies = x_train_anomalies[:2000]\n",
    "x_test_anomalies = x_test_anomalies[:1000]\n"
   ]
  },
  {
   "cell_type": "code",
   "execution_count": null,
   "id": "17912a04-7e49-4daf-9fef-631de15d12e7",
   "metadata": {},
   "outputs": [],
   "source": []
  },
  {
   "cell_type": "code",
   "execution_count": 31,
   "id": "76431d1d-5415-40c9-82e6-69fb14c4aebd",
   "metadata": {},
   "outputs": [
    {
     "name": "stdout",
     "output_type": "stream",
     "text": [
      "24/24 [==============================] - 0s 2ms/step\n",
      "32/32 [==============================] - 0s 7ms/step\n"
     ]
    }
   ],
   "source": [
    "# Compare the distributions\n",
    "recover_emoji = autoencoder.predict(x_test)\n",
    "recover_mnist = autoencoder.predict(x_test_anomalies)\n"
   ]
  },
  {
   "cell_type": "code",
   "execution_count": 32,
   "id": "006a0851-7835-46f3-b250-131a44045a1a",
   "metadata": {},
   "outputs": [],
   "source": [
    "from keras import backend as K\n",
    "def image_mses(y_true, y_pred):\n",
    "    # Compute MSE per-image, not overall\n",
    "    return K.mean(K.square(y_pred - y_true), axis=[1,2,3]).numpy()"
   ]
  },
  {
   "cell_type": "code",
   "execution_count": 33,
   "id": "ac57d554-99b0-4cdc-a76a-201be5de3471",
   "metadata": {},
   "outputs": [],
   "source": [
    "emoji_mses = image_mses(recover_emoji, x_test)\n",
    "digits_mses = image_mses(recover_mnist, x_test_anomalies)"
   ]
  },
  {
   "cell_type": "code",
   "execution_count": 45,
   "id": "d1164ed0-9b1a-4b7d-876f-801af9e3850d",
   "metadata": {},
   "outputs": [
    {
     "data": {
      "text/plain": [
       "<seaborn.axisgrid.FacetGrid at 0x7f24c76d1690>"
      ]
     },
     "execution_count": 45,
     "metadata": {},
     "output_type": "execute_result"
    },
    {
     "data": {
      "image/png": "[encoded data removed]",
      "text/plain": [
       "<Figure size 675.375x500 with 1 Axes>"
      ]
     },
     "metadata": {},
     "output_type": "display_data"
    }
   ],
   "source": [
    "import seaborn as sns\n",
    "sns.displot(\n",
    "    data={\n",
    "        \"emoji (standard)\": emoji_mses, \n",
    "        \"mnist (anomalies)\": digits_mses\n",
    "    },\n",
    ")"
   ]
  },
  {
   "cell_type": "markdown",
   "id": "2ea95486-fc6b-4cd1-82d0-7627c9e7f143",
   "metadata": {},
   "source": [
    "## Summary\n",
    "\n",
    "As we can see, the categories are very well-separated.\n",
    "\n",
    "This example (using totally different datasets) is maybe a little bit too easy for anomaly detection.\n",
    "\n",
    "## Extensions \n",
    "\n",
    "Some other things you might want to try: \n",
    " - Make the distinction harder: have the \"standard\" class be a specific digit (e.g. '8'), and treat every other digit as an anomaly.\n",
    " - Does an autoencoder work better/worse as a anomaly detector if we make it more/less powerful?  One intuition could be that, if it becomes too good at reconstruction, it might also be able to reconstruct anomalies reasonably well.  Can you build an example where this happens?"
   ]
  },
  {
   "cell_type": "code",
   "execution_count": null,
   "id": "74d4da3b-d1b8-49f6-b355-b7bfda9c69f3",
   "metadata": {},
   "outputs": [],
   "source": []
  }
 ],
 "metadata": {
  "kernelspec": {
   "display_name": "Python 3 (ipykernel)",
   "language": "python",
   "name": "python3"
  },
  "language_info": {
   "codemirror_mode": {
    "name": "ipython",
    "version": 3
   },
   "file_extension": ".py",
   "mimetype": "text/x-python",
   "name": "python",
   "nbconvert_exporter": "python",
   "pygments_lexer": "ipython3",
   "version": "3.10.12"
  }
 },
 "nbformat": 4,
 "nbformat_minor": 5
}
