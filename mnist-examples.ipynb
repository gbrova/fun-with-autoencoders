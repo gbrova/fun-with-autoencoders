{
 "cells": [
  {
   "cell_type": "code",
   "execution_count": 1,
   "id": "8198e3aa-2c4c-4d2f-9f07-6c8be4400e41",
   "metadata": {},
   "outputs": [],
   "source": [
    "# Snippets copied liberally from https://blog.keras.io/building-autoencoders-in-keras.html"
   ]
  },
  {
   "cell_type": "markdown",
   "id": "aa4b2391-33fa-4444-a507-431854324a0d",
   "metadata": {},
   "source": [
    "## Load and preprocess mnist digits dataset\n",
    "\n",
    "For simplicity, we treat 28x28 grayscale images as 784-dimensional vectors. \n",
    "\n",
    "We also divide by 255 to make brightnesses be in range [0, 1]."
   ]
  },
  {
   "cell_type": "code",
   "execution_count": 2,
   "id": "d284432e-f709-49f1-906b-87bcbc8f085f",
   "metadata": {
    "scrolled": true
   },
   "outputs": [
    {
     "name": "stderr",
     "output_type": "stream",
     "text": [
      "2024-01-05 23:29:05.929289: I external/local_tsl/tsl/cuda/cudart_stub.cc:31] Could not find cuda drivers on your machine, GPU will not be used.\n",
      "2024-01-05 23:29:06.110780: E external/local_xla/xla/stream_executor/cuda/cuda_dnn.cc:9261] Unable to register cuDNN factory: Attempting to register factory for plugin cuDNN when one has already been registered\n",
      "2024-01-05 23:29:06.110908: E external/local_xla/xla/stream_executor/cuda/cuda_fft.cc:607] Unable to register cuFFT factory: Attempting to register factory for plugin cuFFT when one has already been registered\n",
      "2024-01-05 23:29:06.148116: E external/local_xla/xla/stream_executor/cuda/cuda_blas.cc:1515] Unable to register cuBLAS factory: Attempting to register factory for plugin cuBLAS when one has already been registered\n",
      "2024-01-05 23:29:06.229180: I external/local_tsl/tsl/cuda/cudart_stub.cc:31] Could not find cuda drivers on your machine, GPU will not be used.\n",
      "2024-01-05 23:29:06.230388: I tensorflow/core/platform/cpu_feature_guard.cc:182] This TensorFlow binary is optimized to use available CPU instructions in performance-critical operations.\n",
      "To enable the following instructions: AVX2 FMA, in other operations, rebuild TensorFlow with the appropriate compiler flags.\n",
      "2024-01-05 23:29:07.157032: W tensorflow/compiler/tf2tensorrt/utils/py_utils.cc:38] TF-TRT Warning: Could not find TensorRT\n"
     ]
    },
    {
     "name": "stdout",
     "output_type": "stream",
     "text": [
      "(60000, 784)\n",
      "(10000, 784)\n"
     ]
    }
   ],
   "source": [
    "from keras.datasets import mnist\n",
    "import numpy as np\n",
    "(x_train, _), (x_test, _) = mnist.load_data()\n",
    "\n",
    "x_train = x_train.astype('float32') / 255.\n",
    "x_test = x_test.astype('float32') / 255.\n",
    "x_train = x_train.reshape((len(x_train), np.prod(x_train.shape[1:])))\n",
    "x_test = x_test.reshape((len(x_test), np.prod(x_test.shape[1:])))\n",
    "print(x_train.shape)\n",
    "print(x_test.shape)"
   ]
  },
  {
   "cell_type": "markdown",
   "id": "05ef7561-a0b4-4be4-8173-081f7d75c42e",
   "metadata": {},
   "source": [
    "## Fit an autoencoder with 32-dimensional bottleneck layer"
   ]
  },
  {
   "cell_type": "code",
   "execution_count": 3,
   "id": "869efa94-a203-493c-a43e-734f4519716a",
   "metadata": {},
   "outputs": [],
   "source": [
    "import keras\n",
    "from keras import layers\n",
    "\n",
    "def make_dense_autoencoder(encoding_dim):\n",
    "    input_img = keras.Input(shape=(784,))\n",
    "    encoded = layers.Dense(encoding_dim, activation='relu')(input_img)\n",
    "    decoded = layers.Dense(784, activation='sigmoid')(encoded)\n",
    "    \n",
    "    autoencoder = keras.Model(input_img, decoded)\n",
    "    autoencoder.compile(optimizer='adam', loss='binary_crossentropy')\n",
    "\n",
    "    return autoencoder"
   ]
  },
  {
   "cell_type": "code",
   "execution_count": 4,
   "id": "c0465435-1afa-4e3a-ad3c-8f3d3975fb1d",
   "metadata": {},
   "outputs": [
    {
     "name": "stderr",
     "output_type": "stream",
     "text": [
      "2024-01-05 23:29:08.756566: W external/local_tsl/tsl/framework/cpu_allocator_impl.cc:83] Allocation of 188160000 exceeds 10% of free system memory.\n",
      "2024-01-05 23:29:08.973444: W external/local_tsl/tsl/framework/cpu_allocator_impl.cc:83] Allocation of 188160000 exceeds 10% of free system memory.\n"
     ]
    },
    {
     "name": "stdout",
     "output_type": "stream",
     "text": [
      "Epoch 1/20\n",
      "235/235 [==============================] - 2s 7ms/step - loss: 0.2763 - val_loss: 0.1884\n",
      "Epoch 2/20\n",
      "235/235 [==============================] - 1s 6ms/step - loss: 0.1705 - val_loss: 0.1524\n",
      "Epoch 3/20\n",
      "235/235 [==============================] - 1s 6ms/step - loss: 0.1427 - val_loss: 0.1326\n",
      "Epoch 4/20\n",
      "235/235 [==============================] - 1s 6ms/step - loss: 0.1275 - val_loss: 0.1203\n",
      "Epoch 5/20\n",
      "235/235 [==============================] - 1s 6ms/step - loss: 0.1171 - val_loss: 0.1118\n",
      "Epoch 6/20\n",
      "235/235 [==============================] - 1s 6ms/step - loss: 0.1097 - val_loss: 0.1055\n",
      "Epoch 7/20\n",
      "235/235 [==============================] - 1s 6ms/step - loss: 0.1046 - val_loss: 0.1012\n",
      "Epoch 8/20\n",
      "235/235 [==============================] - 1s 6ms/step - loss: 0.1010 - val_loss: 0.0984\n",
      "Epoch 9/20\n",
      "235/235 [==============================] - 1s 6ms/step - loss: 0.0985 - val_loss: 0.0961\n",
      "Epoch 10/20\n",
      "235/235 [==============================] - 1s 5ms/step - loss: 0.0967 - val_loss: 0.0948\n",
      "Epoch 11/20\n",
      "235/235 [==============================] - 1s 6ms/step - loss: 0.0956 - val_loss: 0.0939\n",
      "Epoch 12/20\n",
      "235/235 [==============================] - 1s 6ms/step - loss: 0.0949 - val_loss: 0.0933\n",
      "Epoch 13/20\n",
      "235/235 [==============================] - 1s 6ms/step - loss: 0.0944 - val_loss: 0.0929\n",
      "Epoch 14/20\n",
      "235/235 [==============================] - 1s 6ms/step - loss: 0.0941 - val_loss: 0.0927\n",
      "Epoch 15/20\n",
      "235/235 [==============================] - 1s 6ms/step - loss: 0.0939 - val_loss: 0.0925\n",
      "Epoch 16/20\n",
      "235/235 [==============================] - 1s 6ms/step - loss: 0.0937 - val_loss: 0.0922\n",
      "Epoch 17/20\n",
      "235/235 [==============================] - 1s 5ms/step - loss: 0.0936 - val_loss: 0.0922\n",
      "Epoch 18/20\n",
      "235/235 [==============================] - 1s 6ms/step - loss: 0.0935 - val_loss: 0.0921\n",
      "Epoch 19/20\n",
      "235/235 [==============================] - 1s 6ms/step - loss: 0.0934 - val_loss: 0.0920\n",
      "Epoch 20/20\n",
      "235/235 [==============================] - 1s 6ms/step - loss: 0.0933 - val_loss: 0.0920\n"
     ]
    },
    {
     "data": {
      "text/plain": [
       "<keras.src.callbacks.History at 0x7f8e5fa9f940>"
      ]
     },
     "execution_count": 4,
     "metadata": {},
     "output_type": "execute_result"
    }
   ],
   "source": [
    "autoencoder = make_dense_autoencoder(encoding_dim=32)\n",
    "\n",
    "autoencoder.fit(\n",
    "    x=x_train, y=x_train,\n",
    "    epochs=20,\n",
    "    batch_size=256,\n",
    "    shuffle=True,\n",
    "    validation_data=(x_test, x_test)\n",
    ")"
   ]
  },
  {
   "cell_type": "code",
   "execution_count": 5,
   "id": "40247e13-3043-4e74-b823-bb8d19404d42",
   "metadata": {},
   "outputs": [
    {
     "name": "stdout",
     "output_type": "stream",
     "text": [
      "313/313 [==============================] - 0s 495us/step\n"
     ]
    }
   ],
   "source": [
    "decoded_imgs = autoencoder.predict(x_test)"
   ]
  },
  {
   "cell_type": "code",
   "execution_count": 20,
   "id": "0d486594-cda6-4663-9429-228396f022f6",
   "metadata": {},
   "outputs": [],
   "source": [
    "import matplotlib.pyplot as plt\n",
    "\n",
    "def view_images(images, savefile=None):\n",
    "    # reshape and de-normalize\n",
    "    images = [img.reshape(28, 28) * 255 for img in images]\n",
    "    \n",
    "    num_images = len(images)\n",
    "    fig, axes = plt.subplots(1, num_images, figsize=(12, 8))\n",
    "\n",
    "    for i, img in enumerate(images):\n",
    "        # img = Image.open(images[i])\n",
    "        axes[i].imshow(img, cmap='gray', vmin=0, vmax=255)\n",
    "        axes[i].axis('off')\n",
    "\n",
    "    fig.tight_layout()\n",
    "\n",
    "    if savefile:\n",
    "        fig.savefig(\"outputs/\"+savefile, bbox_inches='tight', transparent=True, pad_inches=0)\n",
    "\n",
    "    plt.show()\n"
   ]
  },
  {
   "cell_type": "code",
   "execution_count": 21,
   "id": "413ed207-7cd7-438e-af7e-e1a6845260da",
   "metadata": {},
   "outputs": [
    {
     "data": {
      "image/png": "[encoded data removed]",
      "text/plain": [
       "<Figure size 1200x800 with 10 Axes>"
      ]
     },
     "metadata": {},
     "output_type": "display_data"
    },
    {
     "data": {
      "image/png": "[encoded data removed]",
      "text/plain": [
       "<Figure size 1200x800 with 10 Axes>"
      ]
     },
     "metadata": {},
     "output_type": "display_data"
    }
   ],
   "source": [
    "view_images(x_test[:10], savefile=\"mnist_original.png\")\n",
    "view_images(decoded_imgs[:10], \"mnist_emb32.png\")"
   ]
  },
  {
   "cell_type": "code",
   "execution_count": 8,
   "id": "50cd5ecc-15b5-4950-9568-f244a5768cc9",
   "metadata": {},
   "outputs": [
    {
     "data": {
      "text/plain": [
       "0.009737954"
      ]
     },
     "execution_count": 8,
     "metadata": {},
     "output_type": "execute_result"
    }
   ],
   "source": [
    "mse = keras.losses.MeanSquaredError()\n",
    "mse(decoded_imgs, x_test).numpy()"
   ]
  },
  {
   "cell_type": "markdown",
   "id": "3057e22e-b9b7-4699-9e81-3c02982cdbd3",
   "metadata": {},
   "source": [
    "## Compare to downsampling/upsampling\n",
    "\n",
    "Downsampling to 8x8 would use 64 floats, which is already more than our 32.  As we will see, our autoencoder has better reconstruction error."
   ]
  },
  {
   "cell_type": "code",
   "execution_count": 9,
   "id": "541ef7c0-74fd-432a-901d-ff7eb7d981ef",
   "metadata": {},
   "outputs": [],
   "source": [
    "from PIL import Image\n",
    "\n",
    "def downsample_upsample(img, downsample_side):\n",
    "    img = (img.reshape(28,28) * 255).astype(np.uint8)\n",
    "    img = Image.fromarray(img, 'L')\n",
    "\n",
    "    img = img.resize((downsample_side,downsample_side)).resize((28,28))\n",
    "\n",
    "    return np.asarray(img).reshape(784,) / 255"
   ]
  },
  {
   "cell_type": "code",
   "execution_count": 10,
   "id": "4522674f-908c-445e-bbce-d4114f87212d",
   "metadata": {},
   "outputs": [
    {
     "data": {
      "image/png": "[encoded data removed]",
      "text/plain": [
       "<Figure size 1200x800 with 10 Axes>"
      ]
     },
     "metadata": {},
     "output_type": "display_data"
    }
   ],
   "source": [
    "resampled = [downsample_upsample(img, downsample_side=8) for img in x_test]\n",
    "view_images(resampled[:10], \"mnist_resampled.png\")"
   ]
  },
  {
   "cell_type": "code",
   "execution_count": 11,
   "id": "8ac382fb-85f7-4bbb-97a2-71e02440fa20",
   "metadata": {},
   "outputs": [
    {
     "data": {
      "text/plain": [
       "0.0315632"
      ]
     },
     "execution_count": 11,
     "metadata": {},
     "output_type": "execute_result"
    }
   ],
   "source": [
    "mse(resampled, x_test).numpy()"
   ]
  },
  {
   "cell_type": "code",
   "execution_count": null,
   "id": "4ef53079-4e34-45fa-af83-b0b61b93763d",
   "metadata": {},
   "outputs": [],
   "source": []
  },
  {
   "cell_type": "code",
   "execution_count": null,
   "id": "3f979d75-f57c-4409-871b-250a696ae88d",
   "metadata": {},
   "outputs": [],
   "source": []
  },
  {
   "cell_type": "markdown",
   "id": "e8c97780-3da7-4fb1-b932-0070c71d5e26",
   "metadata": {},
   "source": [
    "## Play with some other parameters\n",
    "\n",
    "For fun, we can also try things like:\n",
    " - smaller (16) or bigger (64) bottleneck layer sizes.\n",
    " - look at the distribution of errors"
   ]
  },
  {
   "cell_type": "code",
   "execution_count": 12,
   "id": "0eca1fb4-0c98-4c35-bf55-fa8ab36dc9a4",
   "metadata": {},
   "outputs": [
    {
     "name": "stderr",
     "output_type": "stream",
     "text": [
      "2024-01-05 23:29:38.293186: W external/local_tsl/tsl/framework/cpu_allocator_impl.cc:83] Allocation of 188160000 exceeds 10% of free system memory.\n",
      "2024-01-05 23:29:38.492330: W external/local_tsl/tsl/framework/cpu_allocator_impl.cc:83] Allocation of 188160000 exceeds 10% of free system memory.\n"
     ]
    },
    {
     "name": "stdout",
     "output_type": "stream",
     "text": [
      "Epoch 1/20\n",
      "235/235 [==============================] - 2s 6ms/step - loss: 0.3091 - val_loss: 0.2236\n",
      "Epoch 2/20\n",
      "235/235 [==============================] - 1s 4ms/step - loss: 0.1998 - val_loss: 0.1814\n",
      "Epoch 3/20\n",
      "235/235 [==============================] - 1s 4ms/step - loss: 0.1730 - val_loss: 0.1632\n",
      "Epoch 4/20\n",
      "235/235 [==============================] - 1s 5ms/step - loss: 0.1589 - val_loss: 0.1527\n",
      "Epoch 5/20\n",
      "235/235 [==============================] - 1s 5ms/step - loss: 0.1507 - val_loss: 0.1463\n",
      "Epoch 6/20\n",
      "235/235 [==============================] - 1s 4ms/step - loss: 0.1456 - val_loss: 0.1424\n",
      "Epoch 7/20\n",
      "235/235 [==============================] - 1s 4ms/step - loss: 0.1424 - val_loss: 0.1398\n",
      "Epoch 8/20\n",
      "235/235 [==============================] - 1s 5ms/step - loss: 0.1401 - val_loss: 0.1380\n",
      "Epoch 9/20\n",
      "235/235 [==============================] - 1s 4ms/step - loss: 0.1382 - val_loss: 0.1361\n",
      "Epoch 10/20\n",
      "235/235 [==============================] - 1s 4ms/step - loss: 0.1367 - val_loss: 0.1347\n",
      "Epoch 11/20\n",
      "235/235 [==============================] - 1s 4ms/step - loss: 0.1353 - val_loss: 0.1333\n",
      "Epoch 12/20\n",
      "235/235 [==============================] - 1s 4ms/step - loss: 0.1340 - val_loss: 0.1322\n",
      "Epoch 13/20\n",
      "235/235 [==============================] - 1s 4ms/step - loss: 0.1330 - val_loss: 0.1312\n",
      "Epoch 14/20\n",
      "235/235 [==============================] - 1s 4ms/step - loss: 0.1320 - val_loss: 0.1303\n",
      "Epoch 15/20\n",
      "235/235 [==============================] - 1s 5ms/step - loss: 0.1313 - val_loss: 0.1297\n",
      "Epoch 16/20\n",
      "235/235 [==============================] - 1s 4ms/step - loss: 0.1307 - val_loss: 0.1292\n",
      "Epoch 17/20\n",
      "235/235 [==============================] - 1s 4ms/step - loss: 0.1303 - val_loss: 0.1288\n",
      "Epoch 18/20\n",
      "235/235 [==============================] - 1s 5ms/step - loss: 0.1300 - val_loss: 0.1286\n",
      "Epoch 19/20\n",
      "235/235 [==============================] - 1s 4ms/step - loss: 0.1298 - val_loss: 0.1284\n",
      "Epoch 20/20\n",
      "235/235 [==============================] - 1s 4ms/step - loss: 0.1296 - val_loss: 0.1282\n"
     ]
    },
    {
     "data": {
      "text/plain": [
       "<keras.src.callbacks.History at 0x7f8dec242470>"
      ]
     },
     "execution_count": 12,
     "metadata": {},
     "output_type": "execute_result"
    }
   ],
   "source": [
    "autoencoder = make_dense_autoencoder(encoding_dim=16)\n",
    "\n",
    "autoencoder.fit(\n",
    "    x=x_train, y=x_train,\n",
    "    epochs=20,\n",
    "    batch_size=256,\n",
    "    shuffle=True,\n",
    "    validation_data=(x_test, x_test)\n",
    ")"
   ]
  },
  {
   "cell_type": "code",
   "execution_count": 13,
   "id": "1dd95228-68a8-4c09-98db-deda0a2df83e",
   "metadata": {},
   "outputs": [
    {
     "name": "stdout",
     "output_type": "stream",
     "text": [
      "313/313 [==============================] - 0s 476us/step\n"
     ]
    },
    {
     "data": {
      "image/png": "[encoded data removed]",
      "text/plain": [
       "<Figure size 1200x800 with 10 Axes>"
      ]
     },
     "metadata": {},
     "output_type": "display_data"
    },
    {
     "data": {
      "image/png": "[encoded data removed]",
      "text/plain": [
       "<Figure size 1200x800 with 10 Axes>"
      ]
     },
     "metadata": {},
     "output_type": "display_data"
    }
   ],
   "source": [
    "decoded_imgs = autoencoder.predict(x_test)\n",
    "view_images(x_test[:10], savefile=\"mnist_original.png\")\n",
    "view_images(decoded_imgs[:10], \"mnist_emb16.png\")"
   ]
  },
  {
   "cell_type": "code",
   "execution_count": 14,
   "id": "8eeba5e3-a482-4114-b27e-85c4617b949b",
   "metadata": {},
   "outputs": [
    {
     "data": {
      "text/plain": [
       "0.021541284"
      ]
     },
     "execution_count": 14,
     "metadata": {},
     "output_type": "execute_result"
    }
   ],
   "source": [
    "mse = keras.losses.MeanSquaredError()\n",
    "mse(decoded_imgs, x_test).numpy()"
   ]
  },
  {
   "cell_type": "code",
   "execution_count": 15,
   "id": "3a9c21d0-0274-486c-9934-3262248aca6a",
   "metadata": {},
   "outputs": [],
   "source": [
    "import seaborn as sns"
   ]
  },
  {
   "cell_type": "code",
   "execution_count": 16,
   "id": "a30ca9a9-148f-4c2b-acba-2e41005e95b2",
   "metadata": {},
   "outputs": [
    {
     "data": {
      "text/plain": [
       "<seaborn.axisgrid.FacetGrid at 0x7f8daff325c0>"
      ]
     },
     "execution_count": 16,
     "metadata": {},
     "output_type": "execute_result"
    },
    {
     "data": {
      "image/png": "[encoded data removed]",
      "text/plain": [
       "<Figure size 500x500 with 1 Axes>"
      ]
     },
     "metadata": {},
     "output_type": "display_data"
    }
   ],
   "source": [
    "errors = [mse(decoded_imgs[i], x_test[i]).numpy() for i in range(len(x_test))] \n",
    "sns.displot(errors)"
   ]
  },
  {
   "cell_type": "code",
   "execution_count": null,
   "id": "e1077139-0b19-482a-aa57-182862aa2ba6",
   "metadata": {},
   "outputs": [],
   "source": []
  },
  {
   "cell_type": "code",
   "execution_count": 17,
   "id": "f0f8c42e-b0e8-4c7b-b71d-ea33eaebb554",
   "metadata": {},
   "outputs": [
    {
     "name": "stderr",
     "output_type": "stream",
     "text": [
      "2024-01-05 23:30:06.830506: W external/local_tsl/tsl/framework/cpu_allocator_impl.cc:83] Allocation of 188160000 exceeds 10% of free system memory.\n"
     ]
    },
    {
     "name": "stdout",
     "output_type": "stream",
     "text": [
      "Epoch 1/20\n",
      "235/235 [==============================] - 2s 7ms/step - loss: 0.2433 - val_loss: 0.1609\n",
      "Epoch 2/20\n",
      "235/235 [==============================] - 1s 6ms/step - loss: 0.1429 - val_loss: 0.1264\n",
      "Epoch 3/20\n",
      "235/235 [==============================] - 2s 7ms/step - loss: 0.1178 - val_loss: 0.1080\n",
      "Epoch 4/20\n",
      "235/235 [==============================] - 2s 7ms/step - loss: 0.1035 - val_loss: 0.0971\n",
      "Epoch 5/20\n",
      "235/235 [==============================] - 1s 6ms/step - loss: 0.0946 - val_loss: 0.0901\n",
      "Epoch 6/20\n",
      "235/235 [==============================] - 2s 6ms/step - loss: 0.0885 - val_loss: 0.0852\n",
      "Epoch 7/20\n",
      "235/235 [==============================] - 2s 6ms/step - loss: 0.0842 - val_loss: 0.0816\n",
      "Epoch 8/20\n",
      "235/235 [==============================] - 2s 6ms/step - loss: 0.0812 - val_loss: 0.0792\n",
      "Epoch 9/20\n",
      "235/235 [==============================] - 2s 6ms/step - loss: 0.0791 - val_loss: 0.0775\n",
      "Epoch 10/20\n",
      "235/235 [==============================] - 2s 7ms/step - loss: 0.0776 - val_loss: 0.0763\n",
      "Epoch 11/20\n",
      "235/235 [==============================] - 1s 6ms/step - loss: 0.0766 - val_loss: 0.0755\n",
      "Epoch 12/20\n",
      "235/235 [==============================] - 2s 7ms/step - loss: 0.0759 - val_loss: 0.0749\n",
      "Epoch 13/20\n",
      "235/235 [==============================] - 2s 7ms/step - loss: 0.0754 - val_loss: 0.0745\n",
      "Epoch 14/20\n",
      "235/235 [==============================] - 1s 6ms/step - loss: 0.0750 - val_loss: 0.0741\n",
      "Epoch 15/20\n",
      "235/235 [==============================] - 1s 6ms/step - loss: 0.0746 - val_loss: 0.0739\n",
      "Epoch 16/20\n",
      "235/235 [==============================] - 2s 7ms/step - loss: 0.0744 - val_loss: 0.0736\n",
      "Epoch 17/20\n",
      "235/235 [==============================] - 2s 7ms/step - loss: 0.0742 - val_loss: 0.0735\n",
      "Epoch 18/20\n",
      "235/235 [==============================] - 1s 6ms/step - loss: 0.0740 - val_loss: 0.0733\n",
      "Epoch 19/20\n",
      "235/235 [==============================] - 1s 6ms/step - loss: 0.0739 - val_loss: 0.0732\n",
      "Epoch 20/20\n",
      "235/235 [==============================] - 2s 6ms/step - loss: 0.0737 - val_loss: 0.0731\n"
     ]
    },
    {
     "data": {
      "text/plain": [
       "<keras.src.callbacks.History at 0x7f8dafd40ca0>"
      ]
     },
     "execution_count": 17,
     "metadata": {},
     "output_type": "execute_result"
    }
   ],
   "source": [
    "autoencoder = make_dense_autoencoder(encoding_dim=64)\n",
    "\n",
    "autoencoder.fit(\n",
    "    x=x_train, y=x_train,\n",
    "    epochs=20,\n",
    "    batch_size=256,\n",
    "    shuffle=True,\n",
    "    validation_data=(x_test, x_test)\n",
    ")"
   ]
  },
  {
   "cell_type": "code",
   "execution_count": 18,
   "id": "2851d85d-1e50-44fb-a842-f0a0b9d1a4b4",
   "metadata": {},
   "outputs": [
    {
     "name": "stdout",
     "output_type": "stream",
     "text": [
      "313/313 [==============================] - 0s 528us/step\n"
     ]
    },
    {
     "data": {
      "image/png": "[encoded data removed]",
      "text/plain": [
       "<Figure size 1200x800 with 10 Axes>"
      ]
     },
     "metadata": {},
     "output_type": "display_data"
    },
    {
     "data": {
      "image/png": "[encoded data removed]",
      "text/plain": [
       "<Figure size 1200x800 with 10 Axes>"
      ]
     },
     "metadata": {},
     "output_type": "display_data"
    }
   ],
   "source": [
    "decoded_imgs = autoencoder.predict(x_test)\n",
    "view_images(x_test[:10], savefile=\"mnist_original.png\")\n",
    "view_images(decoded_imgs[:10], \"mnist_emb64.png\")"
   ]
  },
  {
   "cell_type": "code",
   "execution_count": 19,
   "id": "758fdb2c-4016-4824-bd01-5c17ee95c5f0",
   "metadata": {},
   "outputs": [
    {
     "data": {
      "text/plain": [
       "0.0039008956"
      ]
     },
     "execution_count": 19,
     "metadata": {},
     "output_type": "execute_result"
    }
   ],
   "source": [
    "mse = keras.losses.MeanSquaredError()\n",
    "mse(decoded_imgs, x_test).numpy()"
   ]
  },
  {
   "cell_type": "code",
   "execution_count": null,
   "id": "a687380f-1461-49e9-a924-d454a0c3529a",
   "metadata": {},
   "outputs": [],
   "source": []
  }
 ],
 "metadata": {
  "kernelspec": {
   "display_name": "Python 3 (ipykernel)",
   "language": "python",
   "name": "python3"
  },
  "language_info": {
   "codemirror_mode": {
    "name": "ipython",
    "version": 3
   },
   "file_extension": ".py",
   "mimetype": "text/x-python",
   "name": "python",
   "nbconvert_exporter": "python",
   "pygments_lexer": "ipython3",
   "version": "3.10.12"
  }
 },
 "nbformat": 4,
 "nbformat_minor": 5
}
